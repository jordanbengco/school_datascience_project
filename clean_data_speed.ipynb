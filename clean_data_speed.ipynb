{
 "cells": [
  {
   "cell_type": "code",
   "execution_count": 1,
   "metadata": {},
   "outputs": [
    {
     "ename": "ModuleNotFoundError",
     "evalue": "No module named 'statsmodels'",
     "output_type": "error",
     "traceback": [
      "\u001b[0;31m---------------------------------------------------------------------------\u001b[0m",
      "\u001b[0;31mModuleNotFoundError\u001b[0m                       Traceback (most recent call last)",
      "\u001b[0;32m<ipython-input-1-85fa4a125064>\u001b[0m in \u001b[0;36m<module>\u001b[0;34m\u001b[0m\n\u001b[1;32m      5\u001b[0m \u001b[0;32mfrom\u001b[0m \u001b[0mpykalman\u001b[0m \u001b[0;32mimport\u001b[0m \u001b[0mKalmanFilter\u001b[0m\u001b[0;34m\u001b[0m\u001b[0;34m\u001b[0m\u001b[0m\n\u001b[1;32m      6\u001b[0m \u001b[0;32mfrom\u001b[0m \u001b[0mdatetime\u001b[0m \u001b[0;32mimport\u001b[0m \u001b[0mdatetime\u001b[0m\u001b[0;34m\u001b[0m\u001b[0;34m\u001b[0m\u001b[0m\n\u001b[0;32m----> 7\u001b[0;31m \u001b[0;32mfrom\u001b[0m \u001b[0mstatsmodels\u001b[0m\u001b[0;34m.\u001b[0m\u001b[0mnonparametric\u001b[0m\u001b[0;34m.\u001b[0m\u001b[0msmoothers_lowess\u001b[0m \u001b[0;32mimport\u001b[0m \u001b[0mlowess\u001b[0m\u001b[0;34m\u001b[0m\u001b[0;34m\u001b[0m\u001b[0m\n\u001b[0m",
      "\u001b[0;31mModuleNotFoundError\u001b[0m: No module named 'statsmodels'"
     ]
    }
   ],
   "source": [
    "import sys\n",
    "import pandas as pd\n",
    "import numpy as np\n",
    "import matplotlib.pyplot as plt\n",
    "from pykalman import KalmanFilter\n",
    "from datetime import datetime\n",
    "from statsmodels.nonparametric.smoothers_lowess import lowess"
   ]
  },
  {
   "cell_type": "code",
   "execution_count": 18,
   "metadata": {},
   "outputs": [],
   "source": [
    "def prep_data(filename):\n",
    "    \"\"\"\n",
    "    Read file and convet\n",
    "    \"\"\"\n",
    "#     column_name = ['time', 'x_accel', 'y_accel', 'z_accel', 'total_accel']\n",
    "    column_name = ['time', 'x_accel', 'y_accel', 'z_accel']\n",
    "    raw_data = pd.read_csv(filename, names=column_name, header=None) \n",
    "    raw_data = raw_data.drop(0)\n",
    "\n",
    "#     raw_data['time'] = raw_data['time'].apply(to_float)\n",
    "#     raw_data['total_accel'] = raw_data['total_accel'].apply(to_float)\n",
    "    raw_data['time'] = raw_data['time'].apply(to_timestamp)\n",
    "    raw_data['time'] = raw_data['time']-raw_data['time'][1]\n",
    "    raw_data['x_accel'] = raw_data['x_accel'].apply(to_float)\n",
    "    raw_data['y_accel'] = raw_data['y_accel'].apply(to_float)\n",
    "    raw_data['z_accel'] = raw_data['z_accel'].apply(to_float)\n",
    "    \n",
    "#     accel = raw_data['total_accel'].tolist()\n",
    "    time = raw_data['time'].tolist()\n",
    "    x = raw_data['x_accel'].tolist()\n",
    "    y = raw_data['y_accel'].tolist()\n",
    "    z = raw_data['z_accel'].tolist()\n",
    "\n",
    "    # Lowess accelerations    \n",
    "    x_lowess = lowess(x, time, frac=0.09)\n",
    "    y_lowess = lowess(y, time, frac=0.09)\n",
    "    z_lowess = lowess(z, time, frac=0.09)\n",
    "\n",
    "    x_vel = np.trapz(x_lowess[:,1], time)\n",
    "    y_vel = np.trapz(y_lowess[:,1], time)\n",
    "    z_vel = np.trapz(z_lowess[:,1], time)\n",
    "    \n",
    "    print(x_vel, y_vel, z_vel)\n",
    "    print(calc_distance((0,0), (x_vel, y_vel)))    \n",
    "    lowess_columns = {'time':time,\n",
    "                      'x_lowess':x_lowess[:,1],\n",
    "                      'y_lowess':y_lowess[:,1],\n",
    "                      'z_lowess':z_lowess[:,1]\n",
    "                      }\n",
    "    data_lowess = pd.DataFrame(lowess_columns)\n",
    "    plt.plot(time, x_lowess[:,1], \"r-\", linewidth=2, alpha=0.2)\n",
    "    plt.plot(time, y_lowess[:,1], \"g-\", linewidth=2, alpha=0.2)\n",
    "    plt.plot(time, z_lowess[:,1], \"b-\", linewidth=2, alpha=0.2)\n",
    "    plt.show()\n",
    "    \n",
    "    # Kalman Filter accelerations\n",
    "    \n",
    "    \"\"\"\n",
    "    # Kalman Filter\n",
    "    std = np.std(accel)\n",
    "    print(std)\n",
    "    initial_guess = [0]\n",
    "    observation_covariance = std**2#np.diag([std, std]) ** 2\n",
    "    kf = KalmanFilter(\n",
    "            initial_state_mean= initial_guess,\n",
    "            initial_state_covariance=observation_covariance,\n",
    "            observation_covariance=observation_covariance,\n",
    "            )\n",
    "    pred_state, state_cov = kf.smooth(accel)\n",
    "    \n",
    "    plt.plot(time, pred_state[:,0], 'g-', linewidth=2, alpha=0.5)\n",
    "    plt.plot(time, accel, 'b.', alpha = 0.1)\n",
    "    plt.show()\n",
    "    \"\"\""
   ]
  },
  {
   "cell_type": "code",
   "execution_count": 19,
   "metadata": {},
   "outputs": [],
   "source": [
    "def calc_distance(x, y):\n",
    "    vector = np.subtract(x, y)\n",
    "    return np.linalg.norm(vector)  "
   ]
  },
  {
   "cell_type": "code",
   "execution_count": 20,
   "metadata": {},
   "outputs": [],
   "source": [
    "def to_float(x):\n",
    "    return float(x)"
   ]
  },
  {
   "cell_type": "code",
   "execution_count": 21,
   "metadata": {},
   "outputs": [],
   "source": [
    "def to_timestamp(x):\n",
    "    x = datetime.strptime(x, '%Y-%m-%d %H:%M:%S.%f')\n",
    "    return datetime.timestamp(x)"
   ]
  },
  {
   "cell_type": "code",
   "execution_count": 22,
   "metadata": {},
   "outputs": [
    {
     "ename": "NameError",
     "evalue": "name 'lowess' is not defined",
     "output_type": "error",
     "traceback": [
      "\u001b[0;31m---------------------------------------------------------------------------\u001b[0m",
      "\u001b[0;31mNameError\u001b[0m                                 Traceback (most recent call last)",
      "\u001b[0;32m<ipython-input-22-e8efc356845c>\u001b[0m in \u001b[0;36m<module>\u001b[0;34m\u001b[0m\n\u001b[0;32m----> 1\u001b[0;31m \u001b[0mprep_data\u001b[0m\u001b[0;34m(\u001b[0m\u001b[0;34m\"data/Jordan_ankle_left_1.csv\"\u001b[0m\u001b[0;34m)\u001b[0m\u001b[0;34m\u001b[0m\u001b[0;34m\u001b[0m\u001b[0m\n\u001b[0m\u001b[1;32m      2\u001b[0m \u001b[0mprep_data\u001b[0m\u001b[0;34m(\u001b[0m\u001b[0;34m\"data/Jordan_ankle_left_2.csv\"\u001b[0m\u001b[0;34m)\u001b[0m\u001b[0;34m\u001b[0m\u001b[0;34m\u001b[0m\u001b[0m\n\u001b[1;32m      3\u001b[0m \u001b[0mprep_data\u001b[0m\u001b[0;34m(\u001b[0m\u001b[0;34m\"data/Jordan_ankle_left_3.csv\"\u001b[0m\u001b[0;34m)\u001b[0m\u001b[0;34m\u001b[0m\u001b[0;34m\u001b[0m\u001b[0m\n\u001b[1;32m      4\u001b[0m \u001b[0mprep_data\u001b[0m\u001b[0;34m(\u001b[0m\u001b[0;34m\"data/Jordan_ankle_right_1.csv\"\u001b[0m\u001b[0;34m)\u001b[0m\u001b[0;34m\u001b[0m\u001b[0;34m\u001b[0m\u001b[0m\n\u001b[1;32m      5\u001b[0m \u001b[0mprep_data\u001b[0m\u001b[0;34m(\u001b[0m\u001b[0;34m\"data/Jordan_ankle_right_2.csv\"\u001b[0m\u001b[0;34m)\u001b[0m\u001b[0;34m\u001b[0m\u001b[0;34m\u001b[0m\u001b[0m\n",
      "\u001b[0;32m<ipython-input-18-de8a47a406c1>\u001b[0m in \u001b[0;36mprep_data\u001b[0;34m(filename)\u001b[0m\n\u001b[1;32m     23\u001b[0m \u001b[0;34m\u001b[0m\u001b[0m\n\u001b[1;32m     24\u001b[0m     \u001b[0;31m# Lowess accelerations\u001b[0m\u001b[0;34m\u001b[0m\u001b[0;34m\u001b[0m\u001b[0;34m\u001b[0m\u001b[0m\n\u001b[0;32m---> 25\u001b[0;31m     \u001b[0mx_lowess\u001b[0m \u001b[0;34m=\u001b[0m \u001b[0mlowess\u001b[0m\u001b[0;34m(\u001b[0m\u001b[0mx\u001b[0m\u001b[0;34m,\u001b[0m \u001b[0mtime\u001b[0m\u001b[0;34m,\u001b[0m \u001b[0mfrac\u001b[0m\u001b[0;34m=\u001b[0m\u001b[0;36m0.09\u001b[0m\u001b[0;34m)\u001b[0m\u001b[0;34m\u001b[0m\u001b[0;34m\u001b[0m\u001b[0m\n\u001b[0m\u001b[1;32m     26\u001b[0m     \u001b[0my_lowess\u001b[0m \u001b[0;34m=\u001b[0m \u001b[0mlowess\u001b[0m\u001b[0;34m(\u001b[0m\u001b[0my\u001b[0m\u001b[0;34m,\u001b[0m \u001b[0mtime\u001b[0m\u001b[0;34m,\u001b[0m \u001b[0mfrac\u001b[0m\u001b[0;34m=\u001b[0m\u001b[0;36m0.09\u001b[0m\u001b[0;34m)\u001b[0m\u001b[0;34m\u001b[0m\u001b[0;34m\u001b[0m\u001b[0m\n\u001b[1;32m     27\u001b[0m     \u001b[0mz_lowess\u001b[0m \u001b[0;34m=\u001b[0m \u001b[0mlowess\u001b[0m\u001b[0;34m(\u001b[0m\u001b[0mz\u001b[0m\u001b[0;34m,\u001b[0m \u001b[0mtime\u001b[0m\u001b[0;34m,\u001b[0m \u001b[0mfrac\u001b[0m\u001b[0;34m=\u001b[0m\u001b[0;36m0.09\u001b[0m\u001b[0;34m)\u001b[0m\u001b[0;34m\u001b[0m\u001b[0;34m\u001b[0m\u001b[0m\n",
      "\u001b[0;31mNameError\u001b[0m: name 'lowess' is not defined"
     ]
    }
   ],
   "source": [
    "prep_data(\"data/Jordan_ankle_left_1.csv\")\n",
    "prep_data(\"data/Jordan_ankle_left_2.csv\")\n",
    "prep_data(\"data/Jordan_ankle_left_3.csv\")\n",
    "prep_data(\"data/Jordan_hand_left_1.csv\")\n",
    "prep_data(\"data/Jordan_hand_left_2.csv\")\n",
    "prep_data(\"data/Jordan_hand_left_3.csv\")\n",
    "prep_data(\"data/Jordan_pocket_left_1.csv\")\n",
    "prep_data(\"data/Jordan_pocket_left_2.csv\")\n",
    "prep_data(\"data/Jordan_pocket_left_3.csv\")\n",
    "prep_data(\"data/Jordan_ankle_right_1.csv\")\n",
    "prep_data(\"data/Jordan_ankle_right_2.csv\")\n",
    "prep_data(\"data/Jordan_ankle_right_3.csv\")\n",
    "prep_data(\"data/Jordan_hand_right_1.csv\")\n",
    "prep_data(\"data/Jordan_hand_right_2.csv\")\n",
    "prep_data(\"data/Jordan_hand_right_3.csv\")\n",
    "prep_data(\"data/Jordan_pocket_right_1.csv\")\n",
    "prep_data(\"data/Jordan_pocket_right_2.csv\")\n",
    "prep_data(\"data/Jordan_pocket_right_3.csv\")"
   ]
  }
 ],
 "metadata": {
  "kernelspec": {
   "display_name": "Python 3",
   "language": "python",
   "name": "python3"
  },
  "language_info": {
   "codemirror_mode": {
    "name": "ipython",
    "version": 3
   },
   "file_extension": ".py",
   "mimetype": "text/x-python",
   "name": "python",
   "nbconvert_exporter": "python",
   "pygments_lexer": "ipython3",
   "version": "3.6.8"
  }
 },
 "nbformat": 4,
 "nbformat_minor": 2
}
