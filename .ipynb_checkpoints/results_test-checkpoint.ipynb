{
 "cells": [
  {
   "cell_type": "markdown",
   "metadata": {},
   "source": [
    "# Library Imports"
   ]
  },
  {
   "cell_type": "code",
   "execution_count": 1,
   "metadata": {},
   "outputs": [],
   "source": [
    "import sys\n",
    "import pandas as pd\n",
    "import numpy as np\n",
    "from scipy import stats\n",
    "from sklearn.model_selection import train_test_split\n",
    "from sklearn.naive_bayes import GaussianNB\n",
    "from sklearn.preprocessing import StandardScaler\n",
    "from sklearn.neighbors import KNeighborsClassifier\n",
    "from sklearn.tree import DecisionTreeClassifier\n",
    "from sklearn.neural_network import MLPClassifier"
   ]
  },
  {
   "cell_type": "markdown",
   "metadata": {},
   "source": [
    "# Functions"
   ]
  },
  {
   "cell_type": "code",
   "execution_count": 2,
   "metadata": {},
   "outputs": [],
   "source": [
    "def df_to_list(dataframe):\n",
    "    ## Outputs to three lists ankle, hand, pocket and the tester \n",
    "    ## Assumed: The dataframe is for the same tester and it is ordered by 3 ankles, 3 hands, 3 pockets\n",
    "    total_list = dataframe[['x_accel', 'y_accel', 'z_accel']].values.tolist()\n",
    "    \n",
    "    ankle = total_list[0:3]\n",
    "    hand = total_list[3:6]\n",
    "    pocket = total_list[6:9]\n",
    "    tester = dataframe['tester'].tolist()[0:3] # array of size 3 so easy to plug into GaussianNB\n",
    "    \n",
    "    return ankle, hand, pocket, tester"
   ]
  },
  {
   "cell_type": "code",
   "execution_count": 3,
   "metadata": {},
   "outputs": [],
   "source": [
    "def full_df_to_list(dataframe):\n",
    "    ## Outputs full list regardless of where data was recorded\n",
    "    ## Assumed: The dataframe is for the same tester\n",
    "    total_list = dataframe[['x_accel', 'y_accel', 'z_accel']].values.tolist()\n",
    "    tester = dataframe['tester'].tolist()\n",
    "\n",
    "    return total_list, tester"
   ]
  },
  {
   "cell_type": "code",
   "execution_count": 4,
   "metadata": {},
   "outputs": [],
   "source": [
    "# Runs the test 200 times and returns the average score\n",
    "def average_score(model, x, y):\n",
    "    score = 0\n",
    "    tests = 200\n",
    "    for i in range(tests):\n",
    "        x_train, x_valid, y_train, y_valid = train_test_split(x, y)\n",
    "        model.fit(x_train, y_train)\n",
    "        score = score + model.score(x_valid, y_valid)\n",
    "    return (score/tests).round(5)"
   ]
  },
  {
   "cell_type": "code",
   "execution_count": 5,
   "metadata": {},
   "outputs": [],
   "source": [
    "def gaussian(x, y):\n",
    "    model = GaussianNB()\n",
    "    return average_score(model, x, y)"
   ]
  },
  {
   "cell_type": "code",
   "execution_count": 6,
   "metadata": {},
   "outputs": [],
   "source": [
    "def polyfit(x, y):\n",
    "    model = make_pipeline(\n",
    "        PolynomialFeatures(degree=9, include_bias=True),\n",
    "        LinearRegression(fit_intercept=False)\n",
    "    )\n",
    "    return average_score(model, x, y)"
   ]
  },
  {
   "cell_type": "code",
   "execution_count": 7,
   "metadata": {},
   "outputs": [],
   "source": [
    "def neighbors(x, y):\n",
    "    model = make_pipeline(\n",
    "    StandardScaler(),\n",
    "    KNeighborsClassifier(n_neighbors=9)\n",
    "    )\n",
    "    return average_score(model, x, y)"
   ]
  },
  {
   "cell_type": "code",
   "execution_count": 8,
   "metadata": {},
   "outputs": [],
   "source": [
    "def decision(x, y):\n",
    "    model = DecisionTreeClassifier(max_depth=8)\n",
    "    return average_score(model, x, y)"
   ]
  },
  {
   "cell_type": "code",
   "execution_count": 9,
   "metadata": {},
   "outputs": [],
   "source": [
    "def svc(x, y):\n",
    "    model = make_pipeline(\n",
    "    PCA(250),\n",
    "    SVC(kernel='linear', C=2.0)\n",
    "    )\n",
    "    return average_score(model, x, y)"
   ]
  },
  {
   "cell_type": "code",
   "execution_count": 10,
   "metadata": {},
   "outputs": [],
   "source": [
    "def mlp(x, y):\n",
    "    model = MLPClassifier(solver='lbfgs', hidden_layer_sizes=())\n",
    "    return average_score(model, x, y)"
   ]
  },
  {
   "cell_type": "code",
   "execution_count": 11,
   "metadata": {},
   "outputs": [],
   "source": [
    "def triple(data):\n",
    "    return [data['x_accel'], data['y_accel'], data['z_accel']]"
   ]
  },
  {
   "cell_type": "markdown",
   "metadata": {},
   "source": [
    "# Data Manipulation"
   ]
  },
  {
   "cell_type": "code",
   "execution_count": 12,
   "metadata": {},
   "outputs": [],
   "source": [
    "location = pd.DataFrame(['ankle', 'ankle', 'ankle', 'hand', 'hand', 'hand', 'pocket', 'pocket', 'pocket'], \n",
    "                        columns=['location'])\n",
    "\n",
    "p1_data_mean = pd.read_csv('p1-mean.csv').join(location)\n",
    "p1_data_std = pd.read_csv('p1-std.csv').join(location)\n",
    "p2_data_mean = pd.read_csv('p2-mean.csv').join(location)\n",
    "p2_data_std = pd.read_csv('p2-std.csv').join(location)\n",
    "p3_data_mean = pd.read_csv('p3-mean.csv').join(location)\n",
    "p3_data_std = pd.read_csv('p3-std.csv').join(location)\n",
    "p4_data_mean = pd.read_csv('p4-mean.csv').join(location)\n",
    "p4_data_std = pd.read_csv('p4-std.csv').join(location)\n",
    "\n",
    "left_data_mean = pd.read_csv('left-mean.csv').join(location)\n",
    "left_data_std = pd.read_csv('left-std.csv').join(location)\n",
    "right_data_mean = pd.read_csv('right-mean.csv').join(location)\n",
    "right_data_std = pd.read_csv('right-std.csv').join(location)"
   ]
  },
  {
   "cell_type": "code",
   "execution_count": 13,
   "metadata": {},
   "outputs": [],
   "source": [
    "# Appends all user data into one array per type to do machine learning tests\n",
    "data_mean = p1_data_mean\n",
    "data_mean = data_mean.append(p2_data_mean)\n",
    "data_mean = data_mean.append(p3_data_mean)\n",
    "data_mean = data_mean.append(p4_data_mean)\n",
    "\n",
    "data_std = p1_data_std\n",
    "data_std = data_std.append(p2_data_std)\n",
    "data_std = data_std.append(p3_data_std)\n",
    "data_std = data_std.append(p4_data_std)\n",
    "\n",
    "side_mean = left_data_mean\n",
    "side_mean = side_mean.append(right_data_mean)\n",
    "side_std = right_data_std\n",
    "side_std = side_std.append(right_data_std)"
   ]
  },
  {
   "cell_type": "markdown",
   "metadata": {},
   "source": [
    "# Stats Tests"
   ]
  },
  {
   "cell_type": "code",
   "execution_count": 14,
   "metadata": {},
   "outputs": [],
   "source": [
    "# Groups data by location\n",
    "data_ankle = data_mean[data_mean['location']=='ankle'].mean()\n",
    "data_hand = data_mean[data_mean['location']=='hand'].mean()\n",
    "data_pocket = data_mean[data_mean['location']=='pocket'].mean()"
   ]
  },
  {
   "cell_type": "code",
   "execution_count": 15,
   "metadata": {},
   "outputs": [
    {
     "name": "stdout",
     "output_type": "stream",
     "text": [
      "0.4626254658191993\n"
     ]
    }
   ],
   "source": [
    "# ANOVA test to figure out if the means are different\n",
    "anova = stats.f_oneway(triple(data_ankle), triple(data_hand), triple(data_pocket))\n",
    "print(anova.pvalue)"
   ]
  },
  {
   "cell_type": "code",
   "execution_count": 16,
   "metadata": {},
   "outputs": [],
   "source": [
    "# Group data by user\n",
    "data_p1 = data_mean[data_mean['tester']==1].mean()\n",
    "data_p2 = data_mean[data_mean['tester']==2].mean()\n",
    "data_p3 = data_mean[data_mean['tester']==3].mean()"
   ]
  },
  {
   "cell_type": "code",
   "execution_count": 17,
   "metadata": {},
   "outputs": [
    {
     "name": "stdout",
     "output_type": "stream",
     "text": [
      "0.46475862442251603\n"
     ]
    }
   ],
   "source": [
    "# ANOVA test to figure out if the means are different\n",
    "anova = stats.f_oneway(triple(data_p1), triple(data_p2), triple(data_p3))\n",
    "print(anova.pvalue)"
   ]
  },
  {
   "cell_type": "code",
   "execution_count": 18,
   "metadata": {},
   "outputs": [],
   "source": [
    "# Group data by side\n",
    "data_left = left_data_mean[left_data_mean['tester']==3].mean()\n",
    "data_right = right_data_mean[right_data_mean['tester']==4].mean()"
   ]
  },
  {
   "cell_type": "code",
   "execution_count": 19,
   "metadata": {},
   "outputs": [
    {
     "name": "stdout",
     "output_type": "stream",
     "text": [
      "0.7814905995850858\n"
     ]
    }
   ],
   "source": [
    "# ANOVA test to figure out if the means are different\n",
    "anova = stats.f_oneway(triple(data_left), triple(data_right))\n",
    "print(anova.pvalue)"
   ]
  },
  {
   "cell_type": "markdown",
   "metadata": {},
   "source": [
    "# Machine Learning Classfiers"
   ]
  },
  {
   "cell_type": "code",
   "execution_count": 20,
   "metadata": {},
   "outputs": [],
   "source": [
    "# Runs each classifier with each test\n",
    "g_data = []; p_data = []; n_data = []; d_data = []; s_data = []; m_data = []\n",
    "\n",
    "g_data.append(gaussian(data_mean[['x_accel', 'y_accel', 'z_accel']], data_mean['location']))\n",
    "p_data.append(gaussian(data_mean[['x_accel', 'y_accel', 'z_accel']], data_mean['location']))\n",
    "n_data.append(gaussian(data_mean[['x_accel', 'y_accel', 'z_accel']], data_mean['location']))\n",
    "d_data.append(gaussian(data_mean[['x_accel', 'y_accel', 'z_accel']], data_mean['location']))\n",
    "s_data.append(gaussian(data_mean[['x_accel', 'y_accel', 'z_accel']], data_mean['location']))\n",
    "m_data.append(gaussian(data_mean[['x_accel', 'y_accel', 'z_accel']], data_mean['location']))\n",
    "\n",
    "g_data.append(gaussian(data_mean[['x_accel', 'y_accel', 'z_accel']], data_mean['tester']))\n",
    "p_data.append(gaussian(data_mean[['x_accel', 'y_accel', 'z_accel']], data_mean['tester']))\n",
    "n_data.append(gaussian(data_mean[['x_accel', 'y_accel', 'z_accel']], data_mean['tester']))\n",
    "d_data.append(gaussian(data_mean[['x_accel', 'y_accel', 'z_accel']], data_mean['tester']))\n",
    "s_data.append(gaussian(data_mean[['x_accel', 'y_accel', 'z_accel']], data_mean['tester']))\n",
    "m_data.append(gaussian(data_mean[['x_accel', 'y_accel', 'z_accel']], data_mean['tester']))\n",
    "\n",
    "g_data.append(gaussian(side_mean[['x_accel', 'y_accel', 'z_accel']], side_mean['tester']))\n",
    "p_data.append(gaussian(side_mean[['x_accel', 'y_accel', 'z_accel']], side_mean['tester']))\n",
    "n_data.append(gaussian(side_mean[['x_accel', 'y_accel', 'z_accel']], side_mean['tester']))\n",
    "d_data.append(gaussian(side_mean[['x_accel', 'y_accel', 'z_accel']], side_mean['tester']))\n",
    "s_data.append(gaussian(side_mean[['x_accel', 'y_accel', 'z_accel']], side_mean['tester']))\n",
    "m_data.append(gaussian(side_mean[['x_accel', 'y_accel', 'z_accel']], side_mean['tester']))"
   ]
  },
  {
   "cell_type": "code",
   "execution_count": 21,
   "metadata": {},
   "outputs": [],
   "source": [
    "rows = ['location', 'tester', 'side']\n",
    "data = np.array([rows, g_data, p_data, n_data, d_data, s_data, m_data])\n",
    "data = data.transpose()"
   ]
  },
  {
   "cell_type": "code",
   "execution_count": 22,
   "metadata": {},
   "outputs": [
    {
     "data": {
      "text/html": [
       "<div>\n",
       "<style scoped>\n",
       "    .dataframe tbody tr th:only-of-type {\n",
       "        vertical-align: middle;\n",
       "    }\n",
       "\n",
       "    .dataframe tbody tr th {\n",
       "        vertical-align: top;\n",
       "    }\n",
       "\n",
       "    .dataframe thead th {\n",
       "        text-align: right;\n",
       "    }\n",
       "</style>\n",
       "<table border=\"1\" class=\"dataframe\">\n",
       "  <thead>\n",
       "    <tr style=\"text-align: right;\">\n",
       "      <th></th>\n",
       "      <th>Gaussian</th>\n",
       "      <th>Polyfit</th>\n",
       "      <th>Neighbors</th>\n",
       "      <th>Decision</th>\n",
       "      <th>SVC</th>\n",
       "      <th>MLP</th>\n",
       "    </tr>\n",
       "    <tr>\n",
       "      <th>Test</th>\n",
       "      <th></th>\n",
       "      <th></th>\n",
       "      <th></th>\n",
       "      <th></th>\n",
       "      <th></th>\n",
       "      <th></th>\n",
       "    </tr>\n",
       "  </thead>\n",
       "  <tbody>\n",
       "    <tr>\n",
       "      <th>location</th>\n",
       "      <td>0.50944</td>\n",
       "      <td>0.53889</td>\n",
       "      <td>0.51611</td>\n",
       "      <td>0.54</td>\n",
       "      <td>0.52833</td>\n",
       "      <td>0.52667</td>\n",
       "    </tr>\n",
       "    <tr>\n",
       "      <th>tester</th>\n",
       "      <td>0.91</td>\n",
       "      <td>0.91111</td>\n",
       "      <td>0.91167</td>\n",
       "      <td>0.91444</td>\n",
       "      <td>0.90444</td>\n",
       "      <td>0.90222</td>\n",
       "    </tr>\n",
       "    <tr>\n",
       "      <th>side</th>\n",
       "      <td>0.9</td>\n",
       "      <td>0.913</td>\n",
       "      <td>0.912</td>\n",
       "      <td>0.916</td>\n",
       "      <td>0.884</td>\n",
       "      <td>0.924</td>\n",
       "    </tr>\n",
       "  </tbody>\n",
       "</table>\n",
       "</div>"
      ],
      "text/plain": [
       "         Gaussian  Polyfit Neighbors Decision      SVC      MLP\n",
       "Test                                                           \n",
       "location  0.50944  0.53889   0.51611     0.54  0.52833  0.52667\n",
       "tester       0.91  0.91111   0.91167  0.91444  0.90444  0.90222\n",
       "side          0.9    0.913     0.912    0.916    0.884    0.924"
      ]
     },
     "execution_count": 22,
     "metadata": {},
     "output_type": "execute_result"
    }
   ],
   "source": [
    "results =  pd.DataFrame(data, columns =['Test', 'Gaussian', 'Polyfit', 'Neighbors', 'Decision', 'SVC', 'MLP'])\n",
    "results = results.set_index('Test')\n",
    "results"
   ]
  }
 ],
 "metadata": {
  "kernelspec": {
   "display_name": "Python 3",
   "language": "python",
   "name": "python3"
  },
  "language_info": {
   "codemirror_mode": {
    "name": "ipython",
    "version": 3
   },
   "file_extension": ".py",
   "mimetype": "text/x-python",
   "name": "python",
   "nbconvert_exporter": "python",
   "pygments_lexer": "ipython3",
   "version": "3.6.8"
  }
 },
 "nbformat": 4,
 "nbformat_minor": 2
}
