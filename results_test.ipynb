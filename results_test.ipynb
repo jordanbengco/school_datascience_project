{
 "cells": [
  {
   "cell_type": "code",
   "execution_count": 1,
   "metadata": {},
   "outputs": [],
   "source": [
    "import sys\n",
    "import pandas as pd\n",
    "import numpy as np\n",
    "from sklearn.naive_bayes import GaussianNB"
   ]
  },
  {
   "cell_type": "code",
   "execution_count": 2,
   "metadata": {},
   "outputs": [],
   "source": [
    "def df_to_list(dataframe):\n",
    "    ## Outputs to three lists ankle, hand, pocket and the tester \n",
    "    ## Assumed: The dataframe is for the same tester and it is ordered by 3 ankles, 3 hands, 3 pockets\n",
    "    total_list = dataframe[['x_accel', 'y_accel', 'z_accel']].values.tolist()\n",
    "    \n",
    "    ankle = total_list[0:3]\n",
    "    hand = total_list[3:6]\n",
    "    pocket = total_list[6:9]\n",
    "    tester = dataframe['tester'].tolist()[0:3] # array of size 3 so easy to plug into GaussianNB\n",
    "    \n",
    "    return ankle, hand, pocket, tester"
   ]
  },
  {
   "cell_type": "code",
   "execution_count": 3,
   "metadata": {},
   "outputs": [],
   "source": [
    "def full_df_to_list(dataframe):\n",
    "    ## Outputs full list regardless of where data was recorded\n",
    "    ## Assumed: The dataframe is for the same tester\n",
    "    total_list = dataframe[['x_accel', 'y_accel', 'z_accel']].values.tolist()\n",
    "    tester = dataframe['tester'].tolist()\n",
    "    \n",
    "    return total_list, tester"
   ]
  },
  {
   "cell_type": "code",
   "execution_count": 4,
   "metadata": {},
   "outputs": [
    {
     "ename": "SyntaxError",
     "evalue": "unexpected EOF while parsing (<ipython-input-4-e8a87f95bd56>, line 3)",
     "output_type": "error",
     "traceback": [
      "\u001b[0;36m  File \u001b[0;32m\"<ipython-input-4-e8a87f95bd56>\"\u001b[0;36m, line \u001b[0;32m3\u001b[0m\n\u001b[0;31m    ## Run data through bayesian classifier? Other ML classifiers?\u001b[0m\n\u001b[0m                                                                  ^\u001b[0m\n\u001b[0;31mSyntaxError\u001b[0m\u001b[0;31m:\u001b[0m unexpected EOF while parsing\n"
     ]
    }
   ],
   "source": [
    "def gaussian():\n",
    "    ## TODO\n",
    "    ## Run data through bayesian classifier? Other ML classifiers?"
   ]
  },
  {
   "cell_type": "code",
   "execution_count": null,
   "metadata": {},
   "outputs": [],
   "source": [
    "p1_data_mean = pd.read_csv('p1-mean.csv')\n",
    "p1_data_std = pd.read_csv('p1-std.csv')\n",
    "p2_data_mean = pd.read_csv('p2-mean.csv')\n",
    "p2_data_std = pd.read_csv('p2-std.csv')\n",
    "p2_data_mean = pd.read_csv('p3-mean.csv')\n",
    "p2_data_std = pd.read_csv('p3-std.csv')\n",
    "\n",
    "df_to_list(p1_data_mean)"
   ]
  }
 ],
 "metadata": {
  "kernelspec": {
   "display_name": "Python 3",
   "language": "python",
   "name": "python3"
  },
  "language_info": {
   "codemirror_mode": {
    "name": "ipython",
    "version": 3
   },
   "file_extension": ".py",
   "mimetype": "text/x-python",
   "name": "python",
   "nbconvert_exporter": "python",
   "pygments_lexer": "ipython3",
   "version": "3.6.8"
  }
 },
 "nbformat": 4,
 "nbformat_minor": 2
}
