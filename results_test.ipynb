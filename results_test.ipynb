{
 "cells": [
  {
   "cell_type": "markdown",
   "metadata": {},
   "source": [
    "# Library Imports"
   ]
  },
  {
   "cell_type": "code",
   "execution_count": 1,
   "metadata": {},
   "outputs": [],
   "source": [
    "import sys\n",
    "import pandas as pd\n",
    "import numpy as np\n",
    "import matplotlib.pyplot as plt\n",
    "from scipy import stats\n",
    "from sklearn.model_selection import train_test_split\n",
    "from sklearn.naive_bayes import GaussianNB\n",
    "from sklearn.preprocessing import StandardScaler\n",
    "from sklearn.neighbors import KNeighborsClassifier\n",
    "from sklearn.tree import DecisionTreeClassifier\n",
    "from sklearn.decomposition import PCA\n",
    "from sklearn.svm import SVC\n",
    "from sklearn.neural_network import MLPClassifier\n",
    "from sklearn.pipeline import make_pipeline"
   ]
  },
  {
   "cell_type": "markdown",
   "metadata": {},
   "source": [
    "# Functions"
   ]
  },
  {
   "cell_type": "code",
   "execution_count": 2,
   "metadata": {},
   "outputs": [],
   "source": [
    "def df_to_list(dataframe):\n",
    "    ## Outputs to three lists ankle, hand, pocket and the tester \n",
    "    ## Assumed: The dataframe is for the same tester and it is ordered by 3 ankles, 3 hands, 3 pockets\n",
    "    total_list = dataframe[['x_accel', 'y_accel', 'z_accel']].values.tolist()\n",
    "    \n",
    "    ankle = total_list[0:3]\n",
    "    hand = total_list[3:6]\n",
    "    pocket = total_list[6:9]\n",
    "    tester = dataframe['tester'].tolist()[0:3] # array of size 3 so easy to plug into GaussianNB\n",
    "    \n",
    "    return ankle, hand, pocket, tester"
   ]
  },
  {
   "cell_type": "code",
   "execution_count": 3,
   "metadata": {},
   "outputs": [],
   "source": [
    "def full_df_to_list(dataframe):\n",
    "    ## Outputs full list regardless of where data was recorded\n",
    "    ## Assumed: The dataframe is for the same tester\n",
    "    total_list = dataframe[['x_accel', 'y_accel', 'z_accel']].values.tolist()\n",
    "    tester = dataframe['tester'].tolist()\n",
    "\n",
    "    return total_list, tester"
   ]
  },
  {
   "cell_type": "code",
   "execution_count": 4,
   "metadata": {},
   "outputs": [],
   "source": [
    "# Runs the test 300 times and returns the average score\n",
    "def average_score(model, x, y):\n",
    "    score = 0\n",
    "    tests = 300\n",
    "    for i in range(tests):\n",
    "        x_train, x_valid, y_train, y_valid = train_test_split(x, y)\n",
    "        model.fit(x_train, y_train)\n",
    "        score = score + model.score(x_valid, y_valid)\n",
    "    return (score/tests).round(5)"
   ]
  },
  {
   "cell_type": "code",
   "execution_count": 5,
   "metadata": {},
   "outputs": [],
   "source": [
    "def gaussian(x, y):\n",
    "    model = GaussianNB()\n",
    "    return average_score(model, x, y)"
   ]
  },
  {
   "cell_type": "code",
   "execution_count": 6,
   "metadata": {},
   "outputs": [],
   "source": [
    "def polyfit(x, y):\n",
    "    model = make_pipeline(\n",
    "        PolynomialFeatures(5),\n",
    "        LinearRegression(fit_intercept=False)\n",
    "    )\n",
    "    return average_score(model, x, y)"
   ]
  },
  {
   "cell_type": "code",
   "execution_count": 7,
   "metadata": {},
   "outputs": [],
   "source": [
    "def neighbors(x, y):\n",
    "    model = make_pipeline(\n",
    "    StandardScaler(),\n",
    "    KNeighborsClassifier(n_neighbors=9)\n",
    "    )\n",
    "    return average_score(model, x, y)"
   ]
  },
  {
   "cell_type": "code",
   "execution_count": 8,
   "metadata": {},
   "outputs": [],
   "source": [
    "def decision(x, y):\n",
    "    model = DecisionTreeClassifier(max_depth=8)\n",
    "    return average_score(model, x, y)"
   ]
  },
  {
   "cell_type": "code",
   "execution_count": 9,
   "metadata": {},
   "outputs": [],
   "source": [
    "def svc(x, y):\n",
    "    model = make_pipeline(\n",
    "    PCA(2),\n",
    "    SVC(kernel='linear', C=2.0)\n",
    "    )\n",
    "    return average_score(model, x, y)"
   ]
  },
  {
   "cell_type": "code",
   "execution_count": 10,
   "metadata": {},
   "outputs": [],
   "source": [
    "def mlp(x, y):\n",
    "    model = MLPClassifier(solver='lbfgs', hidden_layer_sizes=())\n",
    "    return average_score(model, x, y)"
   ]
  },
  {
   "cell_type": "code",
   "execution_count": 11,
   "metadata": {},
   "outputs": [],
   "source": [
    "def triple(data):\n",
    "    return [data['x_accel'], data['y_accel'], data['z_accel']]"
   ]
  },
  {
   "cell_type": "markdown",
   "metadata": {},
   "source": [
    "# Data Manipulation"
   ]
  },
  {
   "cell_type": "code",
   "execution_count": 12,
   "metadata": {},
   "outputs": [],
   "source": [
    "# 0 = ankle, 1 = hand, 2 = pocket\n",
    "location = pd.DataFrame([0, 0, 0, 1, 1, 1, 2, 2, 2], columns=['location'])\n",
    "\n",
    "p1_data_mean = pd.read_csv('p1-mean.csv').join(location)\n",
    "p1_data_std = pd.read_csv('p1-std.csv').join(location)\n",
    "p2_data_mean = pd.read_csv('p2-mean.csv').join(location)\n",
    "p2_data_std = pd.read_csv('p2-std.csv').join(location)\n",
    "p3_data_mean = pd.read_csv('p3-mean.csv').join(location)\n",
    "p3_data_std = pd.read_csv('p3-std.csv').join(location)\n",
    "p4_data_mean = pd.read_csv('p4-mean.csv').join(location)\n",
    "p4_data_std = pd.read_csv('p4-std.csv').join(location)\n",
    "\n",
    "left_data_mean = pd.read_csv('left-mean.csv').join(location)\n",
    "left_data_std = pd.read_csv('left-std.csv').join(location)\n",
    "right_data_mean = pd.read_csv('right-mean.csv').join(location)\n",
    "right_data_std = pd.read_csv('right-std.csv').join(location)"
   ]
  },
  {
   "cell_type": "code",
   "execution_count": 13,
   "metadata": {},
   "outputs": [],
   "source": [
    "# Appends all user data into one array per type to do machine learning tests\n",
    "data_mean = p1_data_mean\n",
    "data_mean = data_mean.append(p2_data_mean)\n",
    "data_mean = data_mean.append(p3_data_mean)\n",
    "data_mean = data_mean.append(p4_data_mean)\n",
    "\n",
    "data_std = p1_data_std\n",
    "data_std = data_std.append(p2_data_std)\n",
    "data_std = data_std.append(p3_data_std)\n",
    "data_std = data_std.append(p4_data_std)\n",
    "\n",
    "side_mean = left_data_mean\n",
    "side_mean = side_mean.append(right_data_mean)\n",
    "side_std = right_data_std\n",
    "side_std = side_std.append(right_data_std)"
   ]
  },
  {
   "cell_type": "markdown",
   "metadata": {},
   "source": [
    "# Stats Tests"
   ]
  },
  {
   "cell_type": "code",
   "execution_count": 14,
   "metadata": {},
   "outputs": [],
   "source": [
    "# Groups all data by location\n",
    "# 0 = ankle, 1 = hand, 2 = pocket\n",
    "data_ankle = data_mean[data_mean['location']==0]\n",
    "data_hand = data_mean[data_mean['location']==1]\n",
    "data_pocket = data_mean[data_mean['location']==2]"
   ]
  },
  {
   "cell_type": "code",
   "execution_count": 26,
   "metadata": {},
   "outputs": [
    {
     "name": "stdout",
     "output_type": "stream",
     "text": [
      "ankle/hand x,y,z: 0.5\n",
      "ankle/pocket x,y,z: 0.19136654444261297\n",
      "hand/pocket x,y,z: 0.19136654444261297\n",
      "ankle/hand x: 0.03030098485600307\n",
      "ankle/pocket x: 0.23519495838172844\n",
      "hand/pocket x: 0.07856126079198153\n",
      "ankle/hand y: 0.0014728230752664906\n",
      "ankle/pocket y: 0.00036476545976758703\n",
      "hand/pocket y: 0.044232251394851124\n",
      "ankle/hand z: 0.020202059794111847\n",
      "ankle/pocket z: 0.13006628411592697\n",
      "hand/pocket z: 0.0002952060409722729\n"
     ]
    }
   ],
   "source": [
    "# Mann–Whitney  test to figure out if the means are different per location\n",
    "print(\"ankle/hand x,y,z:\", stats.mannwhitneyu(triple(data_ankle.mean()), triple(data_hand.mean())).pvalue)\n",
    "print(\"ankle/pocket x,y,z:\", stats.mannwhitneyu(triple(data_ankle.mean()), triple(data_pocket.mean())).pvalue)\n",
    "print(\"hand/pocket x,y,z:\", stats.mannwhitneyu(triple(data_hand.mean()), triple(data_pocket.mean())).pvalue)\n",
    "print(\"ankle/hand x:\", stats.mannwhitneyu(data_ankle['x_accel'], data_hand['x_accel']).pvalue)\n",
    "print(\"ankle/pocket x:\", stats.mannwhitneyu(data_ankle['x_accel'], data_pocket['x_accel']).pvalue)\n",
    "print(\"hand/pocket x:\", stats.mannwhitneyu(data_hand['x_accel'], data_pocket['x_accel']).pvalue)\n",
    "print(\"ankle/hand y:\", stats.mannwhitneyu(data_ankle['y_accel'], data_hand['y_accel']).pvalue)\n",
    "print(\"ankle/pocket y:\", stats.mannwhitneyu(data_ankle['y_accel'], data_pocket['y_accel']).pvalue)\n",
    "print(\"hand/pocket y:\", stats.mannwhitneyu(data_hand['y_accel'], data_pocket['y_accel']).pvalue)\n",
    "print(\"ankle/hand z:\", stats.mannwhitneyu(data_ankle['z_accel'], data_hand['z_accel']).pvalue)\n",
    "print(\"ankle/pocket z:\", stats.mannwhitneyu(data_ankle['z_accel'], data_pocket['z_accel']).pvalue)\n",
    "print(\"hand/pocket z:\", stats.mannwhitneyu(data_hand['z_accel'], data_pocket['z_accel']).pvalue)"
   ]
  },
  {
   "cell_type": "code",
   "execution_count": 30,
   "metadata": {},
   "outputs": [
    {
     "name": "stdout",
     "output_type": "stream",
     "text": [
      "p1/p2 x,y,z: 0.3312602917700287\n",
      "p1/p3 x,y,z: 0.3312602917700287\n",
      "p2/p3 x,y,z: 0.04042779918502612\n",
      "p1/p2 x: 0.006685401185413613\n",
      "p1/p3 x: 0.36196601980698784\n",
      "p2/p3 x: 0.0002047300544265788\n",
      "p1/p2 y: 0.05588814967948364\n",
      "p1/p3 y: 0.00028681675549428065\n",
      "p2/p3 y: 0.36189765707468813\n",
      "p1/p2 z: 0.1253768099647634\n",
      "p1/p3 z: 0.36196601980698784\n",
      "p2/p3 z: 0.1253768099647634\n"
     ]
    }
   ],
   "source": [
    "# Mann–Whitney test to figure out if the means are different per user\n",
    "print(\"p1/p2 x,y,z:\", stats.mannwhitneyu(triple(p1_data_mean.mean()), triple(p2_data_mean.mean())).pvalue)\n",
    "print(\"p1/p3 x,y,z:\", stats.mannwhitneyu(triple(p1_data_mean.mean()), triple(p3_data_mean.mean())).pvalue)\n",
    "print(\"p2/p3 x,y,z:\", stats.mannwhitneyu(triple(p2_data_mean.mean()), triple(p3_data_mean.mean())).pvalue)\n",
    "print(\"p1/p2 x:\", stats.mannwhitneyu(p1_data_mean['x_accel'], p2_data_mean['x_accel']).pvalue)\n",
    "print(\"p1/p3 x:\", stats.mannwhitneyu(p1_data_mean['x_accel'], p3_data_mean['x_accel']).pvalue)\n",
    "print(\"p2/p3 x:\", stats.mannwhitneyu(p2_data_mean['x_accel'], p3_data_mean['x_accel']).pvalue)\n",
    "print(\"p1/p2 y:\", stats.mannwhitneyu(p1_data_mean['y_accel'], p2_data_mean['y_accel']).pvalue)\n",
    "print(\"p1/p3 y:\", stats.mannwhitneyu(p1_data_mean['y_accel'], p3_data_mean['y_accel']).pvalue)\n",
    "print(\"p2/p3 y:\", stats.mannwhitneyu(p2_data_mean['y_accel'], p3_data_mean['y_accel']).pvalue)\n",
    "print(\"p1/p2 z:\", stats.mannwhitneyu(p1_data_mean['z_accel'], p2_data_mean['z_accel']).pvalue)\n",
    "print(\"p1/p3 z:\", stats.mannwhitneyu(p1_data_mean['z_accel'], p3_data_mean['z_accel']).pvalue)\n",
    "print(\"p2/p3 z:\", stats.mannwhitneyu(p2_data_mean['z_accel'], p3_data_mean['z_accel']).pvalue)"
   ]
  },
  {
   "cell_type": "code",
   "execution_count": 29,
   "metadata": {},
   "outputs": [
    {
     "name": "stdout",
     "output_type": "stream",
     "text": [
      "x,y,z: 0.3312602917700287\n",
      "x: 0.00020614740103084563\n",
      "y: 0.18861230833372672\n",
      "z: 0.36196601980698784\n"
     ]
    }
   ],
   "source": [
    "# Mann–Whitney test to figure out if the means are different per side\n",
    "print(\"x,y,z:\", stats.mannwhitneyu(triple(left_data_mean.mean()), triple(right_data_mean.mean())).pvalue)\n",
    "print(\"x:\", stats.mannwhitneyu(left_data_mean['x_accel'], right_data_mean['x_accel']).pvalue)\n",
    "print(\"y:\", stats.mannwhitneyu(left_data_mean['y_accel'], right_data_mean['y_accel']).pvalue)\n",
    "print(\"z:\", stats.mannwhitneyu(left_data_mean['z_accel'], right_data_mean['z_accel']).pvalue)"
   ]
  },
  {
   "cell_type": "markdown",
   "metadata": {},
   "source": [
    "# Machine Learning Classfiers"
   ]
  },
  {
   "cell_type": "code",
   "execution_count": 18,
   "metadata": {},
   "outputs": [],
   "source": [
    "# Runs each classifier with each test\n",
    "g_data = []; n_data = []; d_data = []; s_data = []; m_data = []\n",
    "\n",
    "g_data.append(gaussian(data_mean[['x_accel', 'y_accel', 'z_accel']], data_mean['location']))\n",
    "n_data.append(neighbors(data_mean[['x_accel', 'y_accel', 'z_accel']], data_mean['location']))\n",
    "d_data.append(decision(data_mean[['x_accel', 'y_accel', 'z_accel']], data_mean['location']))\n",
    "s_data.append(svc(data_mean[['x_accel', 'y_accel', 'z_accel']], data_mean['location']))\n",
    "m_data.append(mlp(data_mean[['x_accel', 'y_accel', 'z_accel']], data_mean['location']))\n",
    "\n",
    "g_data.append(gaussian(data_mean[['x_accel', 'y_accel', 'z_accel']], data_mean['tester']))\n",
    "n_data.append(neighbors(data_mean[['x_accel', 'y_accel', 'z_accel']], data_mean['tester']))\n",
    "d_data.append(decision(data_mean[['x_accel', 'y_accel', 'z_accel']], data_mean['tester']))\n",
    "s_data.append(svc(data_mean[['x_accel', 'y_accel', 'z_accel']], data_mean['tester']))\n",
    "m_data.append(mlp(data_mean[['x_accel', 'y_accel', 'z_accel']], data_mean['tester']))\n",
    "\n",
    "g_data.append(gaussian(side_mean[['x_accel', 'y_accel', 'z_accel']], side_mean['tester']))\n",
    "n_data.append(neighbors(side_mean[['x_accel', 'y_accel', 'z_accel']], side_mean['tester']))\n",
    "d_data.append(decision(side_mean[['x_accel', 'y_accel', 'z_accel']], side_mean['tester']))\n",
    "s_data.append(svc(side_mean[['x_accel', 'y_accel', 'z_accel']], side_mean['tester']))\n",
    "m_data.append(mlp(side_mean[['x_accel', 'y_accel', 'z_accel']], side_mean['tester']))"
   ]
  },
  {
   "cell_type": "code",
   "execution_count": 19,
   "metadata": {},
   "outputs": [],
   "source": [
    "rows = ['location', 'tester', 'side']\n",
    "data = np.array([rows, g_data, n_data, d_data, s_data, m_data])\n",
    "data = data.transpose()"
   ]
  },
  {
   "cell_type": "code",
   "execution_count": 20,
   "metadata": {},
   "outputs": [],
   "source": [
    "results =  pd.DataFrame(data, columns =['Test', 'Gaussian', 'Neighbors', 'Decision', 'SVC', 'MLP'])\n",
    "results = results.set_index('Test')"
   ]
  },
  {
   "cell_type": "markdown",
   "metadata": {},
   "source": [
    "# Charts and Graphics"
   ]
  },
  {
   "cell_type": "code",
   "execution_count": 21,
   "metadata": {},
   "outputs": [
    {
     "data": {
      "text/html": [
       "<div>\n",
       "<style scoped>\n",
       "    .dataframe tbody tr th:only-of-type {\n",
       "        vertical-align: middle;\n",
       "    }\n",
       "\n",
       "    .dataframe tbody tr th {\n",
       "        vertical-align: top;\n",
       "    }\n",
       "\n",
       "    .dataframe thead th {\n",
       "        text-align: right;\n",
       "    }\n",
       "</style>\n",
       "<table border=\"1\" class=\"dataframe\">\n",
       "  <thead>\n",
       "    <tr style=\"text-align: right;\">\n",
       "      <th></th>\n",
       "      <th>Gaussian</th>\n",
       "      <th>Neighbors</th>\n",
       "      <th>Decision</th>\n",
       "      <th>SVC</th>\n",
       "      <th>MLP</th>\n",
       "    </tr>\n",
       "    <tr>\n",
       "      <th>Test</th>\n",
       "      <th></th>\n",
       "      <th></th>\n",
       "      <th></th>\n",
       "      <th></th>\n",
       "      <th></th>\n",
       "    </tr>\n",
       "  </thead>\n",
       "  <tbody>\n",
       "    <tr>\n",
       "      <th>location</th>\n",
       "      <td>0.53333</td>\n",
       "      <td>0.51259</td>\n",
       "      <td>0.78926</td>\n",
       "      <td>0.54</td>\n",
       "      <td>0.78148</td>\n",
       "    </tr>\n",
       "    <tr>\n",
       "      <th>tester</th>\n",
       "      <td>0.91333</td>\n",
       "      <td>0.62852</td>\n",
       "      <td>0.80593</td>\n",
       "      <td>0.60556</td>\n",
       "      <td>0.87519</td>\n",
       "    </tr>\n",
       "    <tr>\n",
       "      <th>side</th>\n",
       "      <td>0.90667</td>\n",
       "      <td>0.60467</td>\n",
       "      <td>0.94</td>\n",
       "      <td>0.32667</td>\n",
       "      <td>0.924</td>\n",
       "    </tr>\n",
       "  </tbody>\n",
       "</table>\n",
       "</div>"
      ],
      "text/plain": [
       "         Gaussian Neighbors Decision      SVC      MLP\n",
       "Test                                                  \n",
       "location  0.53333   0.51259  0.78926     0.54  0.78148\n",
       "tester    0.91333   0.62852  0.80593  0.60556  0.87519\n",
       "side      0.90667   0.60467     0.94  0.32667    0.924"
      ]
     },
     "execution_count": 21,
     "metadata": {},
     "output_type": "execute_result"
    }
   ],
   "source": [
    "results"
   ]
  },
  {
   "cell_type": "code",
   "execution_count": 22,
   "metadata": {},
   "outputs": [
    {
     "data": {
      "image/png": "[encoded data removed]",
      "text/plain": [
       "<Figure size 432x288 with 1 Axes>"
      ]
     },
     "metadata": {
      "needs_background": "light"
     },
     "output_type": "display_data"
    }
   ],
   "source": [
    "# X and Y values by location\n",
    "plt.plot(data_ankle['x_accel'], data_ankle['y_accel'], \"r.\", label='ankle')\n",
    "plt.plot(data_hand['x_accel'], data_hand['y_accel'], \"b.\", label='hand')\n",
    "plt.plot(data_pocket['x_accel'], data_pocket['y_accel'], \"g.\", label='pocket')\n",
    "plt.title('x_accel vs y_accel per location')\n",
    "plt.xlabel('x_accel')\n",
    "plt.ylabel('y_accel')\n",
    "plt.legend()\n",
    "plt.show()"
   ]
  },
  {
   "cell_type": "code",
   "execution_count": 23,
   "metadata": {},
   "outputs": [
    {
     "data": {
      "image/png": "[encoded data removed]",
      "text/plain": [
       "<Figure size 432x288 with 1 Axes>"
      ]
     },
     "metadata": {
      "needs_background": "light"
     },
     "output_type": "display_data"
    }
   ],
   "source": [
    "# X and Y values by user\n",
    "plt.plot(p1_data_mean['x_accel'], p1_data_mean['y_accel'], \"r.\", label='tester 1')\n",
    "plt.plot(p2_data_mean['x_accel'], p2_data_mean['y_accel'], \"b.\", label='tester 2')\n",
    "plt.plot(p3_data_mean['x_accel'], p3_data_mean['y_accel'], \"g.\", label='tester 3')\n",
    "plt.title('x_accel vs y_accel per user')\n",
    "plt.xlabel('x_accel')\n",
    "plt.ylabel('y_accel')\n",
    "plt.legend()\n",
    "plt.show()"
   ]
  },
  {
   "cell_type": "code",
   "execution_count": 31,
   "metadata": {
    "scrolled": true
   },
   "outputs": [
    {
     "data": {
      "image/png": "[encoded data removed]",
      "text/plain": [
       "<Figure size 432x288 with 1 Axes>"
      ]
     },
     "metadata": {
      "needs_background": "light"
     },
     "output_type": "display_data"
    }
   ],
   "source": [
    "# X and Y values by side\n",
    "plt.plot(left_data_mean['x_accel'], left_data_mean['y_accel'], \"r.\", label='left')\n",
    "plt.plot(right_data_mean['x_accel'], right_data_mean['y_accel'], \"b.\", label='right')\n",
    "plt.title('x_accel vs y_accel per side')\n",
    "plt.xlabel('x_accel')\n",
    "plt.ylabel('y_accel')\n",
    "plt.legend()\n",
    "plt.show()"
   ]
  },
  {
   "cell_type": "code",
   "execution_count": null,
   "metadata": {},
   "outputs": [],
   "source": []
  }
 ],
 "metadata": {
  "kernelspec": {
   "display_name": "Python 3",
   "language": "python",
   "name": "python3"
  },
  "language_info": {
   "codemirror_mode": {
    "name": "ipython",
    "version": 3
   },
   "file_extension": ".py",
   "mimetype": "text/x-python",
   "name": "python",
   "nbconvert_exporter": "python",
   "pygments_lexer": "ipython3",
   "version": "3.6.8"
  }
 },
 "nbformat": 4,
 "nbformat_minor": 2
}
