{
 "cells": [
  {
   "cell_type": "code",
   "execution_count": 14,
   "metadata": {},
   "outputs": [],
   "source": [
    "import sys\n",
    "import pandas as pd\n",
    "import numpy as np\n",
    "from sklearn.model_selection import train_test_split\n",
    "from sklearn.naive_bayes import GaussianNB\n",
    "from sklearn.preprocessing import StandardScaler\n",
    "from sklearn.neighbors import KNeighborsClassifier\n",
    "from sklearn.tree import DecisionTreeClassifier\n",
    "from sklearn.neural_network import MLPClassifier"
   ]
  },
  {
   "cell_type": "code",
   "execution_count": 4,
   "metadata": {},
   "outputs": [],
   "source": [
    "def df_to_list(dataframe):\n",
    "    ## Outputs to three lists ankle, hand, pocket and the tester \n",
    "    ## Assumed: The dataframe is for the same tester and it is ordered by 3 ankles, 3 hands, 3 pockets\n",
    "    total_list = dataframe[['x_accel', 'y_accel', 'z_accel']].values.tolist()\n",
    "    \n",
    "    ankle = total_list[0:3]\n",
    "    hand = total_list[3:6]\n",
    "    pocket = total_list[6:9]\n",
    "    tester = dataframe['tester'].tolist()[0:3] # array of size 3 so easy to plug into GaussianNB\n",
    "    \n",
    "    return ankle, hand, pocket, tester"
   ]
  },
  {
   "cell_type": "code",
   "execution_count": 5,
   "metadata": {},
   "outputs": [],
   "source": [
    "def full_df_to_list(dataframe):\n",
    "    ## Outputs full list regardless of where data was recorded\n",
    "    ## Assumed: The dataframe is for the same tester\n",
    "    total_list = dataframe[['x_accel', 'y_accel', 'z_accel']].values.tolist()\n",
    "    tester = dataframe['tester'].tolist()\n",
    "    \n",
    "    return total_list, tester"
   ]
  },
  {
   "cell_type": "code",
   "execution_count": 6,
   "metadata": {},
   "outputs": [],
   "source": [
    "def gaussian(x, y):\n",
    "    model = GaussianNB()\n",
    "    x_train, x_valid, y_train, y_valid = train_test_split(x, y)\n",
    "    model.fit(x_train, y_train)\n",
    "    return model.score(x_valid, y_valid)"
   ]
  },
  {
   "cell_type": "code",
   "execution_count": 7,
   "metadata": {},
   "outputs": [],
   "source": [
    "def polyfit(x, y):\n",
    "    model = make_pipeline(\n",
    "        PolynomialFeatures(degree=9, include_bias=True),\n",
    "        LinearRegression(fit_intercept=False)\n",
    "    )\n",
    "    x_train, x_valid, y_train, y_valid = train_test_split(x, y)\n",
    "    model.fit(x_train, y_train)\n",
    "    return model.score(x_valid, y_valid)"
   ]
  },
  {
   "cell_type": "code",
   "execution_count": 9,
   "metadata": {},
   "outputs": [],
   "source": [
    "def neighbors(x, y):\n",
    "    model = make_pipeline(\n",
    "    StandardScaler(),\n",
    "    KNeighborsClassifier(n_neighbors=9)\n",
    "    )\n",
    "    x_train, x_valid, y_train, y_valid = train_test_split(x, y)\n",
    "    model.fit(x_train, y_train)\n",
    "    return model.score(x_valid, y_valid)"
   ]
  },
  {
   "cell_type": "code",
   "execution_count": 10,
   "metadata": {},
   "outputs": [],
   "source": [
    "def decision(x, y):\n",
    "    model = DecisionTreeClassifier(max_depth=8)\n",
    "    x_train, x_valid, y_train, y_valid = train_test_split(x, y)\n",
    "    model.fit(x_train, y_train)\n",
    "    return model.score(x_valid, y_valid)"
   ]
  },
  {
   "cell_type": "code",
   "execution_count": 12,
   "metadata": {},
   "outputs": [],
   "source": [
    "def svc(x, y):\n",
    "    model = make_pipeline(\n",
    "    PCA(250),\n",
    "    SVC(kernel='linear', C=2.0)\n",
    "    )\n",
    "    x_train, x_valid, y_train, y_valid = train_test_split(x, y)\n",
    "    model.fit(x_train, y_train)\n",
    "    return model.score(x_valid, y_valid)"
   ]
  },
  {
   "cell_type": "code",
   "execution_count": 26,
   "metadata": {},
   "outputs": [],
   "source": [
    "def mlp(x, y):\n",
    "    model = MLPClassifier(solver='lbfgs', hidden_layer_sizes=())\n",
    "    x_train, x_valid, y_train, y_valid = train_test_split(x, y)\n",
    "    model.fit(x_train, y_train)\n",
    "    return model.score(x_valid, y_valid)"
   ]
  },
  {
   "cell_type": "code",
   "execution_count": 46,
   "metadata": {},
   "outputs": [],
   "source": [
    "p1_data_mean = pd.read_csv('p1-mean.csv')\n",
    "p1_data_std = pd.read_csv('p1-std.csv')\n",
    "p2_data_mean = pd.read_csv('p2-mean.csv')\n",
    "p2_data_std = pd.read_csv('p2-std.csv')\n",
    "p3_data_mean = pd.read_csv('p3-mean.csv')\n",
    "p3_data_std = pd.read_csv('p3-std.csv')\n",
    "p4_data_mean = pd.read_csv('p4-mean.csv')\n",
    "p4_data_std = pd.read_csv('p4-std.csv')\n",
    "\n",
    "left_data_mean = pd.read_csv('left-mean.csv')\n",
    "left_data_std = pd.read_csv('left-std.csv')\n",
    "right_data_mean = pd.read_csv('right-mean.csv')\n",
    "right_data_std = pd.read_csv('right-std.csv')"
   ]
  },
  {
   "cell_type": "code",
   "execution_count": 48,
   "metadata": {},
   "outputs": [],
   "source": [
    "# Holds different values per where the phone recorded it\n",
    "list_mean = [p1_data_mean, p2_data_mean, p3_data_mean, p4_data_mean]\n",
    "list_std = [p1_data_std, p2_data_std, p3_data_std, p4_data_std]\n",
    "ankle_mean = []; hand_mean = []; pocket_mean = []; tester = []\n",
    "ankle_std = []; hand_std = []; pocket_std = []\n",
    "\n",
    "for item in list_mean:\n",
    "    a, h, p, t = df_to_list(item)\n",
    "    ankle_mean.append(a)\n",
    "    hand_mean.append(h)\n",
    "    pocket_mean.append(p)\n",
    "    tester_mean.append(t)\n",
    "    \n",
    "for item in list_std:\n",
    "    a, h, p, t = df_to_list(item)\n",
    "    ankle_std.append(a)\n",
    "    hand_std.append(h)\n",
    "    pocket_std.append(p)"
   ]
  },
  {
   "cell_type": "code",
   "execution_count": null,
   "metadata": {},
   "outputs": [],
   "source": []
  },
  {
   "cell_type": "code",
   "execution_count": null,
   "metadata": {},
   "outputs": [],
   "source": []
  },
  {
   "cell_type": "code",
   "execution_count": null,
   "metadata": {},
   "outputs": [],
   "source": []
  }
 ],
 "metadata": {
  "kernelspec": {
   "display_name": "Python 3",
   "language": "python",
   "name": "python3"
  },
  "language_info": {
   "codemirror_mode": {
    "name": "ipython",
    "version": 3
   },
   "file_extension": ".py",
   "mimetype": "text/x-python",
   "name": "python",
   "nbconvert_exporter": "python",
   "pygments_lexer": "ipython3",
   "version": "3.6.8"
  }
 },
 "nbformat": 4,
 "nbformat_minor": 2
}
