{
 "cells": [
  {
   "cell_type": "code",
   "execution_count": 1,
   "metadata": {},
   "outputs": [],
   "source": [
    "import sys\n",
    "import pandas as pd\n",
    "import numpy as np\n",
    "import matplotlib.pyplot as plt\n",
    "from pykalman import KalmanFilter\n",
    "from datetime import datetime\n",
    "# from statsmodels.nonparametric.smoothers_lowess import lowess"
   ]
  },
  {
   "cell_type": "code",
   "execution_count": 2,
   "metadata": {},
   "outputs": [],
   "source": [
    "def to_float(x):\n",
    "    return float(x)"
   ]
  },
  {
   "cell_type": "code",
   "execution_count": 3,
   "metadata": {},
   "outputs": [],
   "source": [
    "def get_csv(filename):\n",
    "#     column_name = ['time', 'x_accel', 'y_accel', 'z_accel', 'total_accel']\n",
    "    column_name = ['time', 'x_accel', 'y_accel', 'z_accel']\n",
    "    raw_data = pd.read_csv(filename, names=column_name, header=None) \n",
    "    raw_data = raw_data.drop(0)\n",
    "    raw_data['time'] = raw_data['time'].apply(to_timestamp)\n",
    "    raw_data['time'] = raw_data['time']-raw_data['time'][1]\n",
    "    raw_data['x_accel'] = raw_data['x_accel'].apply(to_float)\n",
    "    raw_data['y_accel'] = raw_data['y_accel'].apply(to_float)\n",
    "    raw_data['z_accel'] = raw_data['z_accel'].apply(to_float)\n",
    "    \n",
    "    return raw_data"
   ]
  },
  {
   "cell_type": "code",
   "execution_count": 4,
   "metadata": {},
   "outputs": [],
   "source": [
    "def to_timestamp(x):\n",
    "    x = datetime.strptime(x, '%Y-%m-%d %H:%M:%S.%f')\n",
    "    return datetime.timestamp(x)"
   ]
  },
  {
   "cell_type": "code",
   "execution_count": 5,
   "metadata": {},
   "outputs": [],
   "source": [
    "raw_data1 = get_csv(\"data/Jordan_ankle_left_1.csv\")\n",
    "raw_data2 = get_csv(\"data/Jordan_ankle_left_2.csv\")\n",
    "raw_data3 = get_csv(\"data/Jordan_ankle_left_3.csv\")\n",
    "raw_data4 = get_csv(\"data/Jordan_hand_left_1.csv\")\n",
    "raw_data5 = get_csv(\"data/Jordan_hand_left_2.csv\")\n",
    "raw_data6 = get_csv(\"data/Jordan_hand_left_3.csv\")\n",
    "raw_data7 = get_csv(\"data/Jordan_pocket_left_1.csv\")\n",
    "raw_data8 = get_csv(\"data/Jordan_pocket_left_2.csv\")\n",
    "raw_data9 = get_csv(\"data/Jordan_pocket_left_3.csv\")\n",
    "raw_data10 = get_csv(\"data/Jordan_ankle_right_1.csv\")\n",
    "raw_data11 = get_csv(\"data/Jordan_ankle_right_2.csv\")\n",
    "raw_data12 = get_csv(\"data/Jordan_ankle_right_3.csv\")\n",
    "raw_data13 = get_csv(\"data/Jordan_hand_right_1.csv\")\n",
    "raw_data14 = get_csv(\"data/Jordan_hand_right_2.csv\")\n",
    "raw_data15 = get_csv(\"data/Jordan_hand_right_3.csv\")\n",
    "raw_data16 = get_csv(\"data/Jordan_pocket_right_1.csv\")\n",
    "raw_data17 = get_csv(\"data/Jordan_pocket_right_2.csv\")\n",
    "raw_data18 = get_csv(\"data/Jordan_pocket_right_3.csv\")"
   ]
  },
  {
   "cell_type": "code",
   "execution_count": 6,
   "metadata": {},
   "outputs": [],
   "source": [
    "raw_data1 = raw_data1[raw_data1['time'] < 30]\n",
    "raw_data2 = raw_data2[raw_data2['time'] < 30]\n",
    "raw_data3 = raw_data3[raw_data3['time'] < 30]\n",
    "raw_data4 = raw_data4[raw_data4['time'] < 30]\n",
    "raw_data5 = raw_data5[raw_data5['time'] < 30]\n",
    "raw_data6 = raw_data6[raw_data6['time'] < 30]\n",
    "raw_data7 = raw_data7[raw_data7['time'] < 30]\n",
    "raw_data8 = raw_data8[raw_data8['time'] < 30]\n",
    "raw_data9 = raw_data9[raw_data9['time'] < 30]\n",
    "raw_data10 = raw_data10[raw_data10['time'] < 30]\n",
    "raw_data11 = raw_data11[raw_data11['time'] < 30]\n",
    "raw_data12 = raw_data12[raw_data12['time'] < 30]\n",
    "raw_data13 = raw_data13[raw_data13['time'] < 30]\n",
    "raw_data14 = raw_data14[raw_data14['time'] < 30]\n",
    "raw_data15 = raw_data15[raw_data15['time'] < 30]\n",
    "raw_data16 = raw_data16[raw_data16['time'] < 30]\n",
    "raw_data17 = raw_data17[raw_data17['time'] < 30]\n",
    "raw_data18 = raw_data18[raw_data18['time'] < 30]"
   ]
  },
  {
   "cell_type": "code",
   "execution_count": 7,
   "metadata": {},
   "outputs": [],
   "source": [
    "mean1 = raw_data1.mean().tolist()\n",
    "mean2 = raw_data2.mean().tolist()\n",
    "mean3 = raw_data3.mean().tolist()\n",
    "mean4 = raw_data4.mean().tolist()\n",
    "mean5 = raw_data5.mean().tolist()\n",
    "mean6 = raw_data6.mean().tolist()\n",
    "mean7 = raw_data7.mean().tolist()\n",
    "mean8 = raw_data8.mean().tolist()\n",
    "mean9 = raw_data9.mean().tolist()\n",
    "mean10 = raw_data10.mean().tolist()\n",
    "mean11 = raw_data11.mean().tolist()\n",
    "mean12 = raw_data12.mean().tolist()\n",
    "mean13 = raw_data13.mean().tolist()\n",
    "mean14 = raw_data14.mean().tolist()\n",
    "mean15 = raw_data15.mean().tolist()\n",
    "mean16 = raw_data16.mean().tolist()\n",
    "mean17 = raw_data17.mean().tolist()\n",
    "mean18 = raw_data18.mean().tolist()"
   ]
  },
  {
   "cell_type": "code",
   "execution_count": 8,
   "metadata": {},
   "outputs": [],
   "source": [
    "std1 = raw_data1.std().tolist()\n",
    "std2 = raw_data2.std().tolist()\n",
    "std3 = raw_data3.std().tolist()\n",
    "std4 = raw_data4.std().tolist()\n",
    "std5 = raw_data5.std().tolist()\n",
    "std6 = raw_data6.std().tolist()\n",
    "std7 = raw_data7.std().tolist()\n",
    "std8 = raw_data8.std().tolist()\n",
    "std9 = raw_data9.std().tolist()\n",
    "std10 = raw_data10.std().tolist()\n",
    "std11 = raw_data11.std().tolist()\n",
    "std12 = raw_data12.std().tolist()\n",
    "std13 = raw_data13.std().tolist()\n",
    "std14 = raw_data14.std().tolist()\n",
    "std15 = raw_data15.std().tolist()\n",
    "std16 = raw_data16.std().tolist()\n",
    "std17 = raw_data17.std().tolist()\n",
    "std18 = raw_data18.std().tolist()"
   ]
  },
  {
   "cell_type": "code",
   "execution_count": 9,
   "metadata": {},
   "outputs": [],
   "source": [
    "mean_frames = [mean1, mean2, mean3, mean4, mean5, mean6, mean7, mean8, mean9]\n",
    "std_frames = [std1, std2, std3, std4, std5, std6, std7, std8, std9]\n",
    "mean_frames2 = [mean10, mean11, mean12, mean13, mean14, mean15, mean16, mean17, mean18]\n",
    "std_frames2 = [std10, std11, std12, std13, std14, std15, std16, std17, std18]\n",
    "col = ['time', 'x_accel', 'y_accel', 'z_accel']\n",
    "results_mean = pd.DataFrame(mean_frames, columns=col)\n",
    "results_std = pd.DataFrame(std_frames, columns=col)\n",
    "results_mean2 = pd.DataFrame(mean_frames2, columns=col)\n",
    "results_std2 = pd.DataFrame(std_frames2, columns=col)\n",
    "# Keeping both as tester 3 since they are the same person but on the left/right side.\n",
    "results_mean['tester'] = 3\n",
    "results_std['tester'] = 3\n",
    "results_mean2['tester'] = 3\n",
    "results_std2['tester'] = 3\n",
    "results_mean.to_csv(\"p3-mean.csv\")\n",
    "results_std.to_csv(\"p3-std.csv\")\n",
    "results_mean2.to_csv(\"p4-mean.csv\")\n",
    "results_std2.to_csv(\"p4-std.csv\")\n",
    "\n",
    "# Saving a second csv to see if we can accuratly predict which side the phone is on\n",
    "results_mean2['tester'] = 4\n",
    "results_std2['tester'] = 4\n",
    "results_mean.to_csv(\"left-mean.csv\")\n",
    "results_std.to_csv(\"left-std.csv\")\n",
    "results_mean2.to_csv(\"right-mean.csv\")\n",
    "results_std2.to_csv(\"right-std.csv\")"
   ]
  }
 ],
 "metadata": {
  "kernelspec": {
   "display_name": "Python 3",
   "language": "python",
   "name": "python3"
  },
  "language_info": {
   "codemirror_mode": {
    "name": "ipython",
    "version": 3
   },
   "file_extension": ".py",
   "mimetype": "text/x-python",
   "name": "python",
   "nbconvert_exporter": "python",
   "pygments_lexer": "ipython3",
   "version": "3.6.8"
  }
 },
 "nbformat": 4,
 "nbformat_minor": 2
}
